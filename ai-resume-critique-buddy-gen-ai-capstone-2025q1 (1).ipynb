{
 "cells": [
  {
   "cell_type": "code",
   "execution_count": 1,
   "id": "c8db6256",
   "metadata": {
    "_cell_guid": "e836425b-1633-4787-8be4-bccb8dc7a477",
    "_uuid": "72a855f8-99d0-4cd4-8343-b56bbc3dc888",
    "collapsed": false,
    "execution": {
     "iopub.execute_input": "2025-04-21T01:04:45.223986Z",
     "iopub.status.busy": "2025-04-21T01:04:45.223646Z",
     "iopub.status.idle": "2025-04-21T01:04:47.698063Z",
     "shell.execute_reply": "2025-04-21T01:04:47.697021Z"
    },
    "jupyter": {
     "outputs_hidden": false
    },
    "papermill": {
     "duration": 2.483931,
     "end_time": "2025-04-21T01:04:47.699832",
     "exception": false,
     "start_time": "2025-04-21T01:04:45.215901",
     "status": "completed"
    },
    "tags": []
   },
   "outputs": [
    {
     "name": "stdout",
     "output_type": "stream",
     "text": [
      "/kaggle/input/sampleresume/John Doe Resume.pdf\n"
     ]
    }
   ],
   "source": [
    "# This Python 3 environment comes with many helpful analytics libraries installed\n",
    "# It is defined by the kaggle/python Docker image: https://github.com/kaggle/docker-python\n",
    "# For example, here's several helpful packages to load\n",
    "\n",
    "import numpy as np # linear algebra\n",
    "import pandas as pd # data processing, CSV file I/O (e.g. pd.read_csv)\n",
    "\n",
    "# Input data files are available in the read-only \"../input/\" directory\n",
    "# For example, running this (by clicking run or pressing Shift+Enter) will list all files under the input directory\n",
    "\n",
    "import os\n",
    "for dirname, _, filenames in os.walk('/kaggle/input'):\n",
    "    for filename in filenames:\n",
    "        print(os.path.join(dirname, filename))\n",
    "\n",
    "# You can write up to 20GB to the current directory (/kaggle/working/) that gets preserved as output when you create a version using \"Save & Run All\" \n",
    "# You can also write temporary files to /kaggle/temp/, but they won't be saved outside of the current session"
   ]
  },
  {
   "cell_type": "markdown",
   "id": "45596913",
   "metadata": {
    "_cell_guid": "a247424b-0deb-40bc-a042-8c0fa2715833",
    "_uuid": "3db9bd23-f2ed-41b2-b348-6291edd383c3",
    "collapsed": false,
    "jupyter": {
     "outputs_hidden": false
    },
    "papermill": {
     "duration": 0.005973,
     "end_time": "2025-04-21T01:04:47.711763",
     "exception": false,
     "start_time": "2025-04-21T01:04:47.705790",
     "status": "completed"
    },
    "tags": []
   },
   "source": [
    "# Project Name: AI Resume Critique Buddy\n",
    "\n",
    "**Problem Statement:** Resumes often lack tailored, impactful bullet points aligned with the job role, which reduces their chances of clearing ATS filters and impressing recruiters.\n",
    "\n",
    " **GenAI can solve this by:**\n",
    "- Generating personalized bullet points using Few-Shot Prompting.\n",
    "- Evaluating and enhancing these points for clarity and impact.\n",
    "- Analyzing the resume for missing content using Retrieval-Augmented Generation (RAG).\n",
    "\n",
    "**AIM:**\n",
    "To leverage artificial intelligence to provide tailored, impactful, and job-relevant resume bullet points based on the candidate's existing resume. It aims to enhance the quality of resumes, increasing their chances of getting noticed by employers.\n",
    "\n",
    "**Key Features:**\n",
    "1. Tailored resume bullet points specific to the job role, based on pre-defined examples and the provided resume text.\n",
    "2. Evaluation of the generated bullet points for clarity, impact, and relevance, ensuring alignment with job requirements.\n",
    "3. A detailed resume analysis report that includes strengths, missing elements, and suggestions for improvement based on external data retrieval and resume evaluation.\n",
    "\n",
    "**Gen AI Capabilities**\n",
    "1. **Few-Shot Prompting:** This approach uses the pre-defined few-shot examples of bullet points, combined with the resume text, to generate tailored and relevant resume bullet points using Google's Gemini AI model. The output is formatted and ready for use in the candidate's resume, improving its chances of standing out to employers.\n",
    "\n",
    "2. **Gen AI Evaluation:** Gen AI evaluation to assess the quality of the generated bullet points for clarity, impact, and relevance. We then compare the generated content with the provided resume to ensure it aligns with job requirements and enhances the resume's effectiveness.\n",
    "\n",
    "3. **RAG:** The resume analysis report includes the following:\n",
    "a) Strengths\n",
    "b) Missing Elements\n",
    "c) Suggestions for Improvement\n",
    "\n",
    "**Final Output**\n",
    "1.  Role-aligned bullet points ready to paste into resume.\n",
    "2.  Recommendations to further polish resume content.\n",
    "\n",
    "**Real World Application**\n",
    "This project uses AI to optimize resumes by generating tailored bullet points, evaluating content quality, and analyzing strengths, missing elements, and improvement suggestions. It enhances resumes for better alignment with job roles, improving chances with recruiters and ATS.\n",
    "\n",
    "**This tool is designed to be intuitive, user-friendly, and highly effective in assisting users to create the best possible resume to stand out in the competitive job market.**"
   ]
  },
  {
   "cell_type": "markdown",
   "id": "b22a5679",
   "metadata": {
    "_cell_guid": "ebf6ba9e-6370-48bd-86f2-ef40caaa53a5",
    "_uuid": "59f80e5e-5ba8-4226-871f-0cb611e4d6ec",
    "collapsed": false,
    "jupyter": {
     "outputs_hidden": false
    },
    "papermill": {
     "duration": 0.005177,
     "end_time": "2025-04-21T01:04:47.722356",
     "exception": false,
     "start_time": "2025-04-21T01:04:47.717179",
     "status": "completed"
    },
    "tags": []
   },
   "source": [
    "# **Installing Required Packages:**"
   ]
  },
  {
   "cell_type": "code",
   "execution_count": 2,
   "id": "e0bfb459",
   "metadata": {
    "_cell_guid": "8f881a34-ca3c-408a-884a-02985eb00031",
    "_uuid": "54256781-e7f5-43fa-9af7-70f64aa223d5",
    "collapsed": false,
    "execution": {
     "iopub.execute_input": "2025-04-21T01:04:47.734596Z",
     "iopub.status.busy": "2025-04-21T01:04:47.734127Z",
     "iopub.status.idle": "2025-04-21T01:05:18.040274Z",
     "shell.execute_reply": "2025-04-21T01:05:18.039038Z"
    },
    "jupyter": {
     "outputs_hidden": false
    },
    "papermill": {
     "duration": 30.31442,
     "end_time": "2025-04-21T01:05:18.042174",
     "exception": false,
     "start_time": "2025-04-21T01:04:47.727754",
     "status": "completed"
    },
    "tags": []
   },
   "outputs": [
    {
     "name": "stdout",
     "output_type": "stream",
     "text": [
      "Requirement already satisfied: google-generativeai in /usr/local/lib/python3.11/dist-packages (0.8.4)\r\n",
      "Collecting google-generativeai\r\n",
      "  Downloading google_generativeai-0.8.5-py3-none-any.whl.metadata (3.9 kB)\r\n",
      "Requirement already satisfied: google-ai-generativelanguage==0.6.15 in /usr/local/lib/python3.11/dist-packages (from google-generativeai) (0.6.15)\r\n",
      "Requirement already satisfied: google-api-core in /usr/local/lib/python3.11/dist-packages (from google-generativeai) (1.34.1)\r\n",
      "Requirement already satisfied: google-api-python-client in /usr/local/lib/python3.11/dist-packages (from google-generativeai) (2.160.0)\r\n",
      "Requirement already satisfied: google-auth>=2.15.0 in /usr/local/lib/python3.11/dist-packages (from google-generativeai) (2.27.0)\r\n",
      "Requirement already satisfied: protobuf in /usr/local/lib/python3.11/dist-packages (from google-generativeai) (3.20.3)\r\n",
      "Requirement already satisfied: pydantic in /usr/local/lib/python3.11/dist-packages (from google-generativeai) (2.11.3)\r\n",
      "Requirement already satisfied: tqdm in /usr/local/lib/python3.11/dist-packages (from google-generativeai) (4.67.1)\r\n",
      "Requirement already satisfied: typing-extensions in /usr/local/lib/python3.11/dist-packages (from google-generativeai) (4.13.1)\r\n",
      "Requirement already satisfied: proto-plus<2.0.0dev,>=1.22.3 in /usr/local/lib/python3.11/dist-packages (from google-ai-generativelanguage==0.6.15->google-generativeai) (1.26.0)\r\n",
      "Requirement already satisfied: googleapis-common-protos<2.0dev,>=1.56.2 in /usr/local/lib/python3.11/dist-packages (from google-api-core->google-generativeai) (1.67.0)\r\n",
      "Requirement already satisfied: requests<3.0.0dev,>=2.18.0 in /usr/local/lib/python3.11/dist-packages (from google-api-core->google-generativeai) (2.32.3)\r\n",
      "Requirement already satisfied: cachetools<6.0,>=2.0.0 in /usr/local/lib/python3.11/dist-packages (from google-auth>=2.15.0->google-generativeai) (5.5.2)\r\n",
      "Requirement already satisfied: pyasn1-modules>=0.2.1 in /usr/local/lib/python3.11/dist-packages (from google-auth>=2.15.0->google-generativeai) (0.4.1)\r\n",
      "Requirement already satisfied: rsa<5,>=3.1.4 in /usr/local/lib/python3.11/dist-packages (from google-auth>=2.15.0->google-generativeai) (4.9)\r\n",
      "Requirement already satisfied: httplib2<1.dev0,>=0.19.0 in /usr/local/lib/python3.11/dist-packages (from google-api-python-client->google-generativeai) (0.22.0)\r\n",
      "Requirement already satisfied: google-auth-httplib2<1.0.0,>=0.2.0 in /usr/local/lib/python3.11/dist-packages (from google-api-python-client->google-generativeai) (0.2.0)\r\n",
      "Requirement already satisfied: uritemplate<5,>=3.0.1 in /usr/local/lib/python3.11/dist-packages (from google-api-python-client->google-generativeai) (4.1.1)\r\n",
      "Requirement already satisfied: annotated-types>=0.6.0 in /usr/local/lib/python3.11/dist-packages (from pydantic->google-generativeai) (0.7.0)\r\n",
      "Requirement already satisfied: pydantic-core==2.33.1 in /usr/local/lib/python3.11/dist-packages (from pydantic->google-generativeai) (2.33.1)\r\n",
      "Requirement already satisfied: typing-inspection>=0.4.0 in /usr/local/lib/python3.11/dist-packages (from pydantic->google-generativeai) (0.4.0)\r\n",
      "Requirement already satisfied: grpcio<2.0dev,>=1.33.2 in /usr/local/lib/python3.11/dist-packages (from google-api-core[grpc]!=2.0.*,!=2.1.*,!=2.10.*,!=2.2.*,!=2.3.*,!=2.4.*,!=2.5.*,!=2.6.*,!=2.7.*,!=2.8.*,!=2.9.*,<3.0.0dev,>=1.34.1->google-ai-generativelanguage==0.6.15->google-generativeai) (1.70.0)\r\n",
      "Requirement already satisfied: grpcio-status<2.0dev,>=1.33.2 in /usr/local/lib/python3.11/dist-packages (from google-api-core[grpc]!=2.0.*,!=2.1.*,!=2.10.*,!=2.2.*,!=2.3.*,!=2.4.*,!=2.5.*,!=2.6.*,!=2.7.*,!=2.8.*,!=2.9.*,<3.0.0dev,>=1.34.1->google-ai-generativelanguage==0.6.15->google-generativeai) (1.48.2)\r\n",
      "Requirement already satisfied: pyparsing!=3.0.0,!=3.0.1,!=3.0.2,!=3.0.3,<4,>=2.4.2 in /usr/local/lib/python3.11/dist-packages (from httplib2<1.dev0,>=0.19.0->google-api-python-client->google-generativeai) (3.2.1)\r\n",
      "Requirement already satisfied: pyasn1<0.7.0,>=0.4.6 in /usr/local/lib/python3.11/dist-packages (from pyasn1-modules>=0.2.1->google-auth>=2.15.0->google-generativeai) (0.6.1)\r\n",
      "Requirement already satisfied: charset-normalizer<4,>=2 in /usr/local/lib/python3.11/dist-packages (from requests<3.0.0dev,>=2.18.0->google-api-core->google-generativeai) (3.4.1)\r\n",
      "Requirement already satisfied: idna<4,>=2.5 in /usr/local/lib/python3.11/dist-packages (from requests<3.0.0dev,>=2.18.0->google-api-core->google-generativeai) (3.10)\r\n",
      "Requirement already satisfied: urllib3<3,>=1.21.1 in /usr/local/lib/python3.11/dist-packages (from requests<3.0.0dev,>=2.18.0->google-api-core->google-generativeai) (2.3.0)\r\n",
      "Requirement already satisfied: certifi>=2017.4.17 in /usr/local/lib/python3.11/dist-packages (from requests<3.0.0dev,>=2.18.0->google-api-core->google-generativeai) (2025.1.31)\r\n",
      "Downloading google_generativeai-0.8.5-py3-none-any.whl (155 kB)\r\n",
      "\u001b[2K   \u001b[90m━━━━━━━━━━━━━━━━━━━━━━━━━━━━━━━━━━━━━━━━\u001b[0m \u001b[32m155.4/155.4 kB\u001b[0m \u001b[31m3.3 MB/s\u001b[0m eta \u001b[36m0:00:00\u001b[0m\r\n",
      "\u001b[?25hInstalling collected packages: google-generativeai\r\n",
      "  Attempting uninstall: google-generativeai\r\n",
      "    Found existing installation: google-generativeai 0.8.4\r\n",
      "    Uninstalling google-generativeai-0.8.4:\r\n",
      "      Successfully uninstalled google-generativeai-0.8.4\r\n",
      "Successfully installed google-generativeai-0.8.5\r\n"
     ]
    }
   ],
   "source": [
    "# Install the google-genai package if not already installed\n",
    "!pip install -U google-generativeai"
   ]
  },
  {
   "cell_type": "markdown",
   "id": "7ea149ff",
   "metadata": {
    "_cell_guid": "0f2e8640-48c2-475b-8fb8-da9be801da5a",
    "_uuid": "6b5b1723-6254-4c9b-b536-4bb91e3c4947",
    "collapsed": false,
    "jupyter": {
     "outputs_hidden": false
    },
    "papermill": {
     "duration": 0.005881,
     "end_time": "2025-04-21T01:05:18.054314",
     "exception": false,
     "start_time": "2025-04-21T01:05:18.048433",
     "status": "completed"
    },
    "tags": []
   },
   "source": []
  },
  {
   "cell_type": "markdown",
   "id": "c7b27672",
   "metadata": {
    "_cell_guid": "be0b9106-6d3e-4b5b-9569-b21cb505b16e",
    "_uuid": "54d057f3-fb38-4d65-b4c7-ff9ebb5c7ba0",
    "collapsed": false,
    "jupyter": {
     "outputs_hidden": false
    },
    "papermill": {
     "duration": 0.005933,
     "end_time": "2025-04-21T01:05:18.066354",
     "exception": false,
     "start_time": "2025-04-21T01:05:18.060421",
     "status": "completed"
    },
    "tags": []
   },
   "source": [
    "# Importing Libraries:"
   ]
  },
  {
   "cell_type": "code",
   "execution_count": 3,
   "id": "07955a6b",
   "metadata": {
    "_cell_guid": "75717d53-4853-430e-81f2-820e45904988",
    "_uuid": "f7e32b0c-98b5-4d5b-872b-84de944fd464",
    "collapsed": false,
    "execution": {
     "iopub.execute_input": "2025-04-21T01:05:18.082169Z",
     "iopub.status.busy": "2025-04-21T01:05:18.080528Z",
     "iopub.status.idle": "2025-04-21T01:05:19.235259Z",
     "shell.execute_reply": "2025-04-21T01:05:19.234125Z"
    },
    "jupyter": {
     "outputs_hidden": false
    },
    "papermill": {
     "duration": 1.164471,
     "end_time": "2025-04-21T01:05:19.237204",
     "exception": false,
     "start_time": "2025-04-21T01:05:18.072733",
     "status": "completed"
    },
    "tags": []
   },
   "outputs": [
    {
     "name": "stderr",
     "output_type": "stream",
     "text": [
      "/usr/local/lib/python3.11/dist-packages/pydantic/_internal/_generate_schema.py:623: UserWarning: <built-in function any> is not a Python type (it may be an instance of an object), Pydantic will allow any object with no validation since we cannot even enforce that the input is an instance of the given type. To get rid of this error wrap the type with `pydantic.SkipValidation`.\n",
      "  warn(\n"
     ]
    }
   ],
   "source": [
    "# Importing necessary libraries\n",
    "from google import genai\n",
    "from google.genai import types\n",
    "from kaggle_secrets import UserSecretsClient"
   ]
  },
  {
   "cell_type": "code",
   "execution_count": 4,
   "id": "d37f3cdd",
   "metadata": {
    "_cell_guid": "4808774d-bf76-4c3d-a2b6-36bb30e0ec04",
    "_uuid": "ab229238-9b77-4c38-804d-795eb920815d",
    "collapsed": false,
    "execution": {
     "iopub.execute_input": "2025-04-21T01:05:19.251737Z",
     "iopub.status.busy": "2025-04-21T01:05:19.251074Z",
     "iopub.status.idle": "2025-04-21T01:05:21.845480Z",
     "shell.execute_reply": "2025-04-21T01:05:21.844319Z"
    },
    "jupyter": {
     "outputs_hidden": false
    },
    "papermill": {
     "duration": 2.603573,
     "end_time": "2025-04-21T01:05:21.847172",
     "exception": false,
     "start_time": "2025-04-21T01:05:19.243599",
     "status": "completed"
    },
    "tags": []
   },
   "outputs": [],
   "source": [
    "import google.generativeai as genai\n",
    "import os\n",
    "from kaggle_secrets import UserSecretsClient\n",
    "\n",
    "# Get the API key securely from Kaggle secrets\n",
    "secret = UserSecretsClient()\n",
    "api_key = secret.get_secret(\"GOOGLE_API_KEY\")\n",
    "\n",
    "# Configure Gemini\n",
    "genai.configure(api_key=api_key)"
   ]
  },
  {
   "cell_type": "code",
   "execution_count": 5,
   "id": "5708e310",
   "metadata": {
    "_cell_guid": "3216e4c1-50e6-4e47-9cfa-800791b8fcc4",
    "_uuid": "af55575e-2e16-4c04-b32f-9512409b900c",
    "collapsed": false,
    "execution": {
     "iopub.execute_input": "2025-04-21T01:05:21.862589Z",
     "iopub.status.busy": "2025-04-21T01:05:21.861983Z",
     "iopub.status.idle": "2025-04-21T01:05:25.913577Z",
     "shell.execute_reply": "2025-04-21T01:05:25.912245Z"
    },
    "jupyter": {
     "outputs_hidden": false
    },
    "papermill": {
     "duration": 4.061016,
     "end_time": "2025-04-21T01:05:25.915462",
     "exception": false,
     "start_time": "2025-04-21T01:05:21.854446",
     "status": "completed"
    },
    "tags": []
   },
   "outputs": [
    {
     "name": "stdout",
     "output_type": "stream",
     "text": [
      "Requirement already satisfied: google-generativeai in /usr/local/lib/python3.11/dist-packages (0.8.5)\r\n",
      "Requirement already satisfied: google-ai-generativelanguage==0.6.15 in /usr/local/lib/python3.11/dist-packages (from google-generativeai) (0.6.15)\r\n",
      "Requirement already satisfied: google-api-core in /usr/local/lib/python3.11/dist-packages (from google-generativeai) (1.34.1)\r\n",
      "Requirement already satisfied: google-api-python-client in /usr/local/lib/python3.11/dist-packages (from google-generativeai) (2.160.0)\r\n",
      "Requirement already satisfied: google-auth>=2.15.0 in /usr/local/lib/python3.11/dist-packages (from google-generativeai) (2.27.0)\r\n",
      "Requirement already satisfied: protobuf in /usr/local/lib/python3.11/dist-packages (from google-generativeai) (3.20.3)\r\n",
      "Requirement already satisfied: pydantic in /usr/local/lib/python3.11/dist-packages (from google-generativeai) (2.11.3)\r\n",
      "Requirement already satisfied: tqdm in /usr/local/lib/python3.11/dist-packages (from google-generativeai) (4.67.1)\r\n",
      "Requirement already satisfied: typing-extensions in /usr/local/lib/python3.11/dist-packages (from google-generativeai) (4.13.1)\r\n",
      "Requirement already satisfied: proto-plus<2.0.0dev,>=1.22.3 in /usr/local/lib/python3.11/dist-packages (from google-ai-generativelanguage==0.6.15->google-generativeai) (1.26.0)\r\n",
      "Requirement already satisfied: googleapis-common-protos<2.0dev,>=1.56.2 in /usr/local/lib/python3.11/dist-packages (from google-api-core->google-generativeai) (1.67.0)\r\n",
      "Requirement already satisfied: requests<3.0.0dev,>=2.18.0 in /usr/local/lib/python3.11/dist-packages (from google-api-core->google-generativeai) (2.32.3)\r\n",
      "Requirement already satisfied: cachetools<6.0,>=2.0.0 in /usr/local/lib/python3.11/dist-packages (from google-auth>=2.15.0->google-generativeai) (5.5.2)\r\n",
      "Requirement already satisfied: pyasn1-modules>=0.2.1 in /usr/local/lib/python3.11/dist-packages (from google-auth>=2.15.0->google-generativeai) (0.4.1)\r\n",
      "Requirement already satisfied: rsa<5,>=3.1.4 in /usr/local/lib/python3.11/dist-packages (from google-auth>=2.15.0->google-generativeai) (4.9)\r\n",
      "Requirement already satisfied: httplib2<1.dev0,>=0.19.0 in /usr/local/lib/python3.11/dist-packages (from google-api-python-client->google-generativeai) (0.22.0)\r\n",
      "Requirement already satisfied: google-auth-httplib2<1.0.0,>=0.2.0 in /usr/local/lib/python3.11/dist-packages (from google-api-python-client->google-generativeai) (0.2.0)\r\n",
      "Requirement already satisfied: uritemplate<5,>=3.0.1 in /usr/local/lib/python3.11/dist-packages (from google-api-python-client->google-generativeai) (4.1.1)\r\n",
      "Requirement already satisfied: annotated-types>=0.6.0 in /usr/local/lib/python3.11/dist-packages (from pydantic->google-generativeai) (0.7.0)\r\n",
      "Requirement already satisfied: pydantic-core==2.33.1 in /usr/local/lib/python3.11/dist-packages (from pydantic->google-generativeai) (2.33.1)\r\n",
      "Requirement already satisfied: typing-inspection>=0.4.0 in /usr/local/lib/python3.11/dist-packages (from pydantic->google-generativeai) (0.4.0)\r\n",
      "Requirement already satisfied: grpcio<2.0dev,>=1.33.2 in /usr/local/lib/python3.11/dist-packages (from google-api-core[grpc]!=2.0.*,!=2.1.*,!=2.10.*,!=2.2.*,!=2.3.*,!=2.4.*,!=2.5.*,!=2.6.*,!=2.7.*,!=2.8.*,!=2.9.*,<3.0.0dev,>=1.34.1->google-ai-generativelanguage==0.6.15->google-generativeai) (1.70.0)\r\n",
      "Requirement already satisfied: grpcio-status<2.0dev,>=1.33.2 in /usr/local/lib/python3.11/dist-packages (from google-api-core[grpc]!=2.0.*,!=2.1.*,!=2.10.*,!=2.2.*,!=2.3.*,!=2.4.*,!=2.5.*,!=2.6.*,!=2.7.*,!=2.8.*,!=2.9.*,<3.0.0dev,>=1.34.1->google-ai-generativelanguage==0.6.15->google-generativeai) (1.48.2)\r\n",
      "Requirement already satisfied: pyparsing!=3.0.0,!=3.0.1,!=3.0.2,!=3.0.3,<4,>=2.4.2 in /usr/local/lib/python3.11/dist-packages (from httplib2<1.dev0,>=0.19.0->google-api-python-client->google-generativeai) (3.2.1)\r\n",
      "Requirement already satisfied: pyasn1<0.7.0,>=0.4.6 in /usr/local/lib/python3.11/dist-packages (from pyasn1-modules>=0.2.1->google-auth>=2.15.0->google-generativeai) (0.6.1)\r\n",
      "Requirement already satisfied: charset-normalizer<4,>=2 in /usr/local/lib/python3.11/dist-packages (from requests<3.0.0dev,>=2.18.0->google-api-core->google-generativeai) (3.4.1)\r\n",
      "Requirement already satisfied: idna<4,>=2.5 in /usr/local/lib/python3.11/dist-packages (from requests<3.0.0dev,>=2.18.0->google-api-core->google-generativeai) (3.10)\r\n",
      "Requirement already satisfied: urllib3<3,>=1.21.1 in /usr/local/lib/python3.11/dist-packages (from requests<3.0.0dev,>=2.18.0->google-api-core->google-generativeai) (2.3.0)\r\n",
      "Requirement already satisfied: certifi>=2017.4.17 in /usr/local/lib/python3.11/dist-packages (from requests<3.0.0dev,>=2.18.0->google-api-core->google-generativeai) (2025.1.31)\r\n",
      "Note: you may need to restart the kernel to use updated packages.\n"
     ]
    }
   ],
   "source": [
    "pip install --upgrade google-generativeai"
   ]
  },
  {
   "cell_type": "markdown",
   "id": "54e4aed4",
   "metadata": {
    "_cell_guid": "a9533759-056a-453b-85f6-6fb56ce47ecc",
    "_uuid": "f2cc6d08-a026-468f-b23f-df5baa58834f",
    "collapsed": false,
    "jupyter": {
     "outputs_hidden": false
    },
    "papermill": {
     "duration": 0.006757,
     "end_time": "2025-04-21T01:05:25.929059",
     "exception": false,
     "start_time": "2025-04-21T01:05:25.922302",
     "status": "completed"
    },
    "tags": []
   },
   "source": [
    "# API USAGE:"
   ]
  },
  {
   "cell_type": "code",
   "execution_count": 6,
   "id": "88f2e369",
   "metadata": {
    "_cell_guid": "e6c6a20a-2d1a-4901-bc92-3fbee0595bd8",
    "_uuid": "cef1ae6d-017b-43b4-842e-5479f7267ed6",
    "collapsed": false,
    "execution": {
     "iopub.execute_input": "2025-04-21T01:05:25.943690Z",
     "iopub.status.busy": "2025-04-21T01:05:25.943315Z",
     "iopub.status.idle": "2025-04-21T01:05:26.034895Z",
     "shell.execute_reply": "2025-04-21T01:05:26.033776Z"
    },
    "jupyter": {
     "outputs_hidden": false
    },
    "papermill": {
     "duration": 0.101107,
     "end_time": "2025-04-21T01:05:26.036519",
     "exception": false,
     "start_time": "2025-04-21T01:05:25.935412",
     "status": "completed"
    },
    "tags": []
   },
   "outputs": [
    {
     "name": "stdout",
     "output_type": "stream",
     "text": [
      "<generator object list_models at 0x7dec8998a640>\n"
     ]
    }
   ],
   "source": [
    "from kaggle_secrets import UserSecretsClient\n",
    "import google.generativeai as genai\n",
    "\n",
    "# Fetch the Google API Key from Kaggle secrets\n",
    "user_secrets = UserSecretsClient()\n",
    "api_key = user_secrets.get_secret(\"GOOGLE_API_KEY\")\n",
    "\n",
    "# Set the API key\n",
    "genai.configure(api_key=api_key)\n",
    "\n",
    "# Check available models\n",
    "models = genai.list_models()  # This will list available models in your current API setup\n",
    "\n",
    "# Print the available models\n",
    "print(models)"
   ]
  },
  {
   "cell_type": "markdown",
   "id": "6ad7f766",
   "metadata": {
    "_cell_guid": "1bf2d15d-0ecc-44a0-8bef-4fbcc9a87b79",
    "_uuid": "8603bd06-b216-4d1d-870d-81063d4c461c",
    "collapsed": false,
    "jupyter": {
     "outputs_hidden": false
    },
    "papermill": {
     "duration": 0.006299,
     "end_time": "2025-04-21T01:05:26.049540",
     "exception": false,
     "start_time": "2025-04-21T01:05:26.043241",
     "status": "completed"
    },
    "tags": []
   },
   "source": []
  },
  {
   "cell_type": "markdown",
   "id": "20c1e2cf",
   "metadata": {
    "_cell_guid": "dc1cfcc1-04f5-4c79-bfd8-ed12d53650a0",
    "_uuid": "7dbb9b79-e9b3-4ad2-9047-400a21b49878",
    "collapsed": false,
    "jupyter": {
     "outputs_hidden": false
    },
    "papermill": {
     "duration": 0.006703,
     "end_time": "2025-04-21T01:05:26.063330",
     "exception": false,
     "start_time": "2025-04-21T01:05:26.056627",
     "status": "completed"
    },
    "tags": []
   },
   "source": [
    "# **Core libraries like google-generativeai for the AI capabilities**"
   ]
  },
  {
   "cell_type": "code",
   "execution_count": 7,
   "id": "2fa29718",
   "metadata": {
    "_cell_guid": "a27ef705-627c-45c7-8072-14a4f2b2f556",
    "_uuid": "9f95b71c-e331-463f-9e19-e97129b01901",
    "collapsed": false,
    "execution": {
     "iopub.execute_input": "2025-04-21T01:05:26.078176Z",
     "iopub.status.busy": "2025-04-21T01:05:26.077883Z",
     "iopub.status.idle": "2025-04-21T01:05:34.094474Z",
     "shell.execute_reply": "2025-04-21T01:05:34.093056Z"
    },
    "jupyter": {
     "outputs_hidden": false
    },
    "papermill": {
     "duration": 8.025936,
     "end_time": "2025-04-21T01:05:34.096302",
     "exception": false,
     "start_time": "2025-04-21T01:05:26.070366",
     "status": "completed"
    },
    "tags": []
   },
   "outputs": [
    {
     "name": "stdout",
     "output_type": "stream",
     "text": [
      "Requirement already satisfied: google-generativeai in /usr/local/lib/python3.11/dist-packages (0.8.5)\r\n",
      "Requirement already satisfied: Flask in /usr/local/lib/python3.11/dist-packages (3.1.0)\r\n",
      "Collecting mysql-connector\r\n",
      "  Downloading mysql-connector-2.2.9.tar.gz (11.9 MB)\r\n",
      "\u001b[2K     \u001b[90m━━━━━━━━━━━━━━━━━━━━━━━━━━━━━━━━━━━━━━━━\u001b[0m \u001b[32m11.9/11.9 MB\u001b[0m \u001b[31m56.3 MB/s\u001b[0m eta \u001b[36m0:00:00\u001b[0m\r\n",
      "\u001b[?25h  Preparing metadata (setup.py) ... \u001b[?25l\u001b[?25hdone\r\n",
      "Collecting pymysql\r\n",
      "  Downloading PyMySQL-1.1.1-py3-none-any.whl.metadata (4.4 kB)\r\n",
      "Requirement already satisfied: google-ai-generativelanguage==0.6.15 in /usr/local/lib/python3.11/dist-packages (from google-generativeai) (0.6.15)\r\n",
      "Requirement already satisfied: google-api-core in /usr/local/lib/python3.11/dist-packages (from google-generativeai) (1.34.1)\r\n",
      "Requirement already satisfied: google-api-python-client in /usr/local/lib/python3.11/dist-packages (from google-generativeai) (2.160.0)\r\n",
      "Requirement already satisfied: google-auth>=2.15.0 in /usr/local/lib/python3.11/dist-packages (from google-generativeai) (2.27.0)\r\n",
      "Requirement already satisfied: protobuf in /usr/local/lib/python3.11/dist-packages (from google-generativeai) (3.20.3)\r\n",
      "Requirement already satisfied: pydantic in /usr/local/lib/python3.11/dist-packages (from google-generativeai) (2.11.3)\r\n",
      "Requirement already satisfied: tqdm in /usr/local/lib/python3.11/dist-packages (from google-generativeai) (4.67.1)\r\n",
      "Requirement already satisfied: typing-extensions in /usr/local/lib/python3.11/dist-packages (from google-generativeai) (4.13.1)\r\n",
      "Requirement already satisfied: proto-plus<2.0.0dev,>=1.22.3 in /usr/local/lib/python3.11/dist-packages (from google-ai-generativelanguage==0.6.15->google-generativeai) (1.26.0)\r\n",
      "Requirement already satisfied: Werkzeug>=3.1 in /usr/local/lib/python3.11/dist-packages (from Flask) (3.1.3)\r\n",
      "Requirement already satisfied: Jinja2>=3.1.2 in /usr/local/lib/python3.11/dist-packages (from Flask) (3.1.6)\r\n",
      "Requirement already satisfied: itsdangerous>=2.2 in /usr/local/lib/python3.11/dist-packages (from Flask) (2.2.0)\r\n",
      "Requirement already satisfied: click>=8.1.3 in /usr/local/lib/python3.11/dist-packages (from Flask) (8.1.8)\r\n",
      "Requirement already satisfied: blinker>=1.9 in /usr/local/lib/python3.11/dist-packages (from Flask) (1.9.0)\r\n",
      "Requirement already satisfied: googleapis-common-protos<2.0dev,>=1.56.2 in /usr/local/lib/python3.11/dist-packages (from google-api-core->google-generativeai) (1.67.0)\r\n",
      "Requirement already satisfied: requests<3.0.0dev,>=2.18.0 in /usr/local/lib/python3.11/dist-packages (from google-api-core->google-generativeai) (2.32.3)\r\n",
      "Requirement already satisfied: cachetools<6.0,>=2.0.0 in /usr/local/lib/python3.11/dist-packages (from google-auth>=2.15.0->google-generativeai) (5.5.2)\r\n",
      "Requirement already satisfied: pyasn1-modules>=0.2.1 in /usr/local/lib/python3.11/dist-packages (from google-auth>=2.15.0->google-generativeai) (0.4.1)\r\n",
      "Requirement already satisfied: rsa<5,>=3.1.4 in /usr/local/lib/python3.11/dist-packages (from google-auth>=2.15.0->google-generativeai) (4.9)\r\n",
      "Requirement already satisfied: MarkupSafe>=2.0 in /usr/local/lib/python3.11/dist-packages (from Jinja2>=3.1.2->Flask) (3.0.2)\r\n",
      "Requirement already satisfied: httplib2<1.dev0,>=0.19.0 in /usr/local/lib/python3.11/dist-packages (from google-api-python-client->google-generativeai) (0.22.0)\r\n",
      "Requirement already satisfied: google-auth-httplib2<1.0.0,>=0.2.0 in /usr/local/lib/python3.11/dist-packages (from google-api-python-client->google-generativeai) (0.2.0)\r\n",
      "Requirement already satisfied: uritemplate<5,>=3.0.1 in /usr/local/lib/python3.11/dist-packages (from google-api-python-client->google-generativeai) (4.1.1)\r\n",
      "Requirement already satisfied: annotated-types>=0.6.0 in /usr/local/lib/python3.11/dist-packages (from pydantic->google-generativeai) (0.7.0)\r\n",
      "Requirement already satisfied: pydantic-core==2.33.1 in /usr/local/lib/python3.11/dist-packages (from pydantic->google-generativeai) (2.33.1)\r\n",
      "Requirement already satisfied: typing-inspection>=0.4.0 in /usr/local/lib/python3.11/dist-packages (from pydantic->google-generativeai) (0.4.0)\r\n",
      "Requirement already satisfied: grpcio<2.0dev,>=1.33.2 in /usr/local/lib/python3.11/dist-packages (from google-api-core[grpc]!=2.0.*,!=2.1.*,!=2.10.*,!=2.2.*,!=2.3.*,!=2.4.*,!=2.5.*,!=2.6.*,!=2.7.*,!=2.8.*,!=2.9.*,<3.0.0dev,>=1.34.1->google-ai-generativelanguage==0.6.15->google-generativeai) (1.70.0)\r\n",
      "Requirement already satisfied: grpcio-status<2.0dev,>=1.33.2 in /usr/local/lib/python3.11/dist-packages (from google-api-core[grpc]!=2.0.*,!=2.1.*,!=2.10.*,!=2.2.*,!=2.3.*,!=2.4.*,!=2.5.*,!=2.6.*,!=2.7.*,!=2.8.*,!=2.9.*,<3.0.0dev,>=1.34.1->google-ai-generativelanguage==0.6.15->google-generativeai) (1.48.2)\r\n",
      "Requirement already satisfied: pyparsing!=3.0.0,!=3.0.1,!=3.0.2,!=3.0.3,<4,>=2.4.2 in /usr/local/lib/python3.11/dist-packages (from httplib2<1.dev0,>=0.19.0->google-api-python-client->google-generativeai) (3.2.1)\r\n",
      "Requirement already satisfied: pyasn1<0.7.0,>=0.4.6 in /usr/local/lib/python3.11/dist-packages (from pyasn1-modules>=0.2.1->google-auth>=2.15.0->google-generativeai) (0.6.1)\r\n",
      "Requirement already satisfied: charset-normalizer<4,>=2 in /usr/local/lib/python3.11/dist-packages (from requests<3.0.0dev,>=2.18.0->google-api-core->google-generativeai) (3.4.1)\r\n",
      "Requirement already satisfied: idna<4,>=2.5 in /usr/local/lib/python3.11/dist-packages (from requests<3.0.0dev,>=2.18.0->google-api-core->google-generativeai) (3.10)\r\n",
      "Requirement already satisfied: urllib3<3,>=1.21.1 in /usr/local/lib/python3.11/dist-packages (from requests<3.0.0dev,>=2.18.0->google-api-core->google-generativeai) (2.3.0)\r\n",
      "Requirement already satisfied: certifi>=2017.4.17 in /usr/local/lib/python3.11/dist-packages (from requests<3.0.0dev,>=2.18.0->google-api-core->google-generativeai) (2025.1.31)\r\n",
      "Downloading PyMySQL-1.1.1-py3-none-any.whl (44 kB)\r\n",
      "\u001b[2K   \u001b[90m━━━━━━━━━━━━━━━━━━━━━━━━━━━━━━━━━━━━━━━━\u001b[0m \u001b[32m45.0/45.0 kB\u001b[0m \u001b[31m1.8 MB/s\u001b[0m eta \u001b[36m0:00:00\u001b[0m\r\n",
      "\u001b[?25hBuilding wheels for collected packages: mysql-connector\r\n",
      "  Building wheel for mysql-connector (setup.py) ... \u001b[?25l\u001b[?25hdone\r\n",
      "  Created wheel for mysql-connector: filename=mysql_connector-2.2.9-cp311-cp311-linux_x86_64.whl size=247949 sha256=f027977338a92cfbc5c2a89a4ed9bc4280be7c453f26f2dfd014a0c5064cdd87\r\n",
      "  Stored in directory: /root/.cache/pip/wheels/17/cd/ed/2d49e9bac69cf09382e4c7cc20a2511202b48324b87db26019\r\n",
      "Successfully built mysql-connector\r\n",
      "Installing collected packages: mysql-connector, pymysql\r\n",
      "Successfully installed mysql-connector-2.2.9 pymysql-1.1.1\r\n",
      "Note: you may need to restart the kernel to use updated packages.\n"
     ]
    }
   ],
   "source": [
    "pip install google-generativeai Flask mysql-connector pymysql"
   ]
  },
  {
   "cell_type": "markdown",
   "id": "b010434e",
   "metadata": {
    "_cell_guid": "5913f202-b7a5-4e4d-b332-e28a5b2327ec",
    "_uuid": "c10d4847-f03b-457f-9bd4-68afdc1aa300",
    "collapsed": false,
    "jupyter": {
     "outputs_hidden": false
    },
    "papermill": {
     "duration": 0.007915,
     "end_time": "2025-04-21T01:05:34.112095",
     "exception": false,
     "start_time": "2025-04-21T01:05:34.104180",
     "status": "completed"
    },
    "tags": []
   },
   "source": [
    "# We'll use PyPDF2 to extract text from a resume PDF. First, make sure PyPDF2 is installed:"
   ]
  },
  {
   "cell_type": "code",
   "execution_count": 8,
   "id": "d0ae4202",
   "metadata": {
    "_cell_guid": "41980a5a-6799-4289-8998-a59e007f493b",
    "_uuid": "80553811-5b1c-4087-baf5-182b69e194af",
    "collapsed": false,
    "execution": {
     "iopub.execute_input": "2025-04-21T01:05:34.128879Z",
     "iopub.status.busy": "2025-04-21T01:05:34.128544Z",
     "iopub.status.idle": "2025-04-21T01:05:38.413162Z",
     "shell.execute_reply": "2025-04-21T01:05:38.411628Z"
    },
    "jupyter": {
     "outputs_hidden": false
    },
    "papermill": {
     "duration": 4.295114,
     "end_time": "2025-04-21T01:05:38.415017",
     "exception": false,
     "start_time": "2025-04-21T01:05:34.119903",
     "status": "completed"
    },
    "tags": []
   },
   "outputs": [
    {
     "name": "stdout",
     "output_type": "stream",
     "text": [
      "Collecting PyPDF2\r\n",
      "  Downloading pypdf2-3.0.1-py3-none-any.whl.metadata (6.8 kB)\r\n",
      "Downloading pypdf2-3.0.1-py3-none-any.whl (232 kB)\r\n",
      "\u001b[2K   \u001b[90m━━━━━━━━━━━━━━━━━━━━━━━━━━━━━━━━━━━━━━━━\u001b[0m \u001b[32m232.6/232.6 kB\u001b[0m \u001b[31m4.9 MB/s\u001b[0m eta \u001b[36m0:00:00\u001b[0m\r\n",
      "\u001b[?25hInstalling collected packages: PyPDF2\r\n",
      "Successfully installed PyPDF2-3.0.1\r\n",
      "Note: you may need to restart the kernel to use updated packages.\n"
     ]
    }
   ],
   "source": [
    "pip install PyPDF2"
   ]
  },
  {
   "cell_type": "code",
   "execution_count": 9,
   "id": "05930c85",
   "metadata": {
    "_cell_guid": "407755b4-efaf-4f91-86f7-58e403d71518",
    "_uuid": "0e7b894e-3430-49af-b749-e095c10055d6",
    "collapsed": false,
    "execution": {
     "iopub.execute_input": "2025-04-21T01:05:38.432508Z",
     "iopub.status.busy": "2025-04-21T01:05:38.432145Z",
     "iopub.status.idle": "2025-04-21T01:05:38.740878Z",
     "shell.execute_reply": "2025-04-21T01:05:38.739711Z"
    },
    "jupyter": {
     "outputs_hidden": false
    },
    "papermill": {
     "duration": 0.320203,
     "end_time": "2025-04-21T01:05:38.743322",
     "exception": false,
     "start_time": "2025-04-21T01:05:38.423119",
     "status": "completed"
    },
    "tags": []
   },
   "outputs": [
    {
     "name": "stdout",
     "output_type": "stream",
     "text": [
      " \n",
      "John Doe  \n",
      " \n",
      "123 Lake Ln ., Cleveland, OH 44115      john.doe@vikes.csuohio.edu                         (216) 123 -4567  \n",
      " \n",
      "Objective  OR Summary :  \n",
      " Objective  contain s 3 elements:  \n",
      " 1) Position you are seeking 2) In w hat kind of environment  3) Utilizing skills in ___. \n",
      " Summary  could be in paragraph  form or bullets.  Describe in 2 -3 sentences or  3-5 bullets the \n",
      "experience and qualifications you have that  best support your current job or internship.  This can also be \n",
      "used as a place to share a unique skill or interest to set yourself apart.  You might also include the u se \n",
      "of key words or most relevant streng ths, skills and knowledge areas that directly relate to or are used in \n",
      "the job description.  \n",
      " \n",
      "Education:  \n",
      "List the colleges you have attended in reverse chronological order, the current or most recent being first. \n",
      "Include the name of the college, location, graduation  date or expected graduate date , degree  and GPA if 3.0 or \n",
      "above . \n",
      " \n",
      "Honors or Awards  (pick one; optional section) :  \n",
      "This includes a scholarship or other recognition.  \n",
      " \n",
      "Related Coursework or Projects  (optional section) : \n",
      "Use this section if you have projects  or classes  that relate to the internship or job for which you are applying.  \n",
      "This enables the reader to literally connect your studies to the job.  Leave out intro classes and class numbers.  \n",
      " \n",
      "Skills:  \n",
      "List relevant computer , language, software, technical  or interperson al skills.  \n",
      " \n",
      "Related Experience:  \n",
      "This section is for any experience related  to your major , career goal, volunteer experience or academic course \n",
      "projects . \n",
      " \n",
      "Company Name, City, State                                   Dates Worked: Month, Year  \n",
      "Title, Department (when possible)  \n",
      " Use accomplishment statements when possible . \n",
      " Begin with action verb: What did you do? How did you do it? What were the results?  \n",
      " Can you quantify results with numbers or a percentage ? \n",
      " \n",
      "Leadership  (optional section) : \n",
      " \n",
      " \n",
      " \n",
      " \n",
      " \n",
      "Other Employment:  \n",
      "This section is used  for jobs unrelated to the industry you are interested in ; employers want to see that you \n",
      "have worked in some capacity. Descriptions of these jobs may not be needed depending  on the amount of \n",
      "room you have, but do include dates of employment.  \n",
      " \n",
      " \n",
      " \n",
      "  Campus Involve ment   Professional Associations  \n",
      " Academic Projects   Volunteer Experience /Community Service  \n",
      " Leadership   Membership Affiliation  \n",
      " Athletics   Interests  \n",
      "   \n",
      "John Doe  \n",
      " \n",
      "123 Lake Ln ., Cleveland, OH 44115      john.doe@vikes.csuohio.edu                         (216) 123 -4567     \n",
      " \n",
      " \n",
      "OBJECTIVE  \n",
      "Seeking a  position in community outreach working for a non -profit organization  utilizin g skills in \n",
      "communication , advocacy  and relationship building . \n",
      " \n",
      "EDUCATION  \n",
      "Cleveland State University  (CSU) , Cleveland, OH           Expected graduation: May 2019  \n",
      "Bachelor of Arts, Urban Studies                            GPA: 3.6  \n",
      " \n",
      "HONORS/AWARDS  \n",
      "Choose Ohio First S cholarship                                  2016  \n",
      " Academic Achievement  \n",
      " \n",
      "RELATED CO URSEWORK OR PROJECTS  \n",
      "Project #1                                  2017  \n",
      " Brief explanation of project  \n",
      " \n",
      "SKILLS  \n",
      " Microsoft Excel   Project management   Community  Service  \n",
      " Research   Problem solving   Public speaking  \n",
      " \n",
      "RELATED EXPERIENCE  \n",
      "Company Name, Cleveland, OH                  August 2016 -Present  \n",
      "Title, Department  \n",
      " Most relevant accomplishment or results  \n",
      " Most relevant accomplishment or results  \n",
      " \n",
      "Company Name, Cleveland, OH                    January 2015 -July 2016  \n",
      "Intern , Department  \n",
      " Most relevant accomplishment or results  \n",
      " Most relevant accomplishment or results  \n",
      " \n",
      "LEADERSHIP  \n",
      "CSU Student Life and Housing , Cleveland, OH                   Summer 2016  \n",
      "Orientation Leader  \n",
      " Brief explanation  \n",
      " \n",
      "VOLUNTEER EXPERIENCE  \n",
      "Cleveland Animal Protective League , Cleveland, OH                           Spring 2016 -Present  \n",
      " \n",
      "OTHER EXPERIENCE  \n",
      "Starbucks , Cleveland, OH                                          May 2016 -Present  \n",
      "Barista  \n",
      " \n",
      " \n",
      " \n",
      " \n",
      " \n"
     ]
    }
   ],
   "source": [
    "def extract_text_from_pdf(file_path):\n",
    "    import PyPDF2\n",
    "    text = \"\"\n",
    "    with open(file_path, \"rb\") as file:\n",
    "        reader = PyPDF2.PdfReader(file)\n",
    "        for page in reader.pages:\n",
    "            text += page.extract_text()\n",
    "    return text\n",
    "\n",
    "# Set path to your uploaded resume\n",
    "resume_path = \"/kaggle/input/sampleresume/John Doe Resume.pdf\"  \n",
    "resume_text = extract_text_from_pdf(resume_path)\n",
    "\n",
    "print(resume_text)"
   ]
  },
  {
   "cell_type": "markdown",
   "id": "01f28544",
   "metadata": {
    "_cell_guid": "565ec67b-9839-4723-8ff0-8e9b62b12900",
    "_uuid": "6c1b1747-5733-4025-a576-5e4a549c0f37",
    "collapsed": false,
    "jupyter": {
     "outputs_hidden": false
    },
    "papermill": {
     "duration": 0.008178,
     "end_time": "2025-04-21T01:05:38.761128",
     "exception": false,
     "start_time": "2025-04-21T01:05:38.752950",
     "status": "completed"
    },
    "tags": []
   },
   "source": [
    "\n",
    "# 1. Few-Shot Prompting\n",
    "This approach uses the pre-defined few-shot examples of bullet points, combined with the resume text, to generate tailored and relevant resume bullet points using Google's Gemini AI model. The output is formatted and ready for use in the candidate's resume, improving its chances of standing out to employers."
   ]
  },
  {
   "cell_type": "code",
   "execution_count": 10,
   "id": "24a7e1c2",
   "metadata": {
    "_cell_guid": "93e1d527-4652-41dd-b4e6-0f8414a0f643",
    "_uuid": "0cb5b77e-b113-4d37-9372-aae4b4fc3555",
    "collapsed": false,
    "execution": {
     "iopub.execute_input": "2025-04-21T01:05:38.780903Z",
     "iopub.status.busy": "2025-04-21T01:05:38.780610Z",
     "iopub.status.idle": "2025-04-21T01:05:41.912144Z",
     "shell.execute_reply": "2025-04-21T01:05:41.911131Z"
    },
    "jupyter": {
     "outputs_hidden": false
    },
    "papermill": {
     "duration": 3.142793,
     "end_time": "2025-04-21T01:05:41.913683",
     "exception": false,
     "start_time": "2025-04-21T01:05:38.770890",
     "status": "completed"
    },
    "tags": []
   },
   "outputs": [
    {
     "name": "stdout",
     "output_type": "stream",
     "text": [
      "Generated Bullet Points:\n",
      "\n",
      "* Okay, based on the provided resume snippet, here are some tailored and impactful bullet points for a Software Developer resume:\n",
      "* \n",
      "* *   **Developed and maintained scalable web applications using Python (Flask/Django) and JavaScript (React/Angular), ensuring high availability and optimal performance.** (This specifies technologies and highlights responsibility for scalability and performance)\n",
      "* \n",
      "* *   **Collaborated with cross-functional teams (including product managers, designers, and QA engineers) to deliver high-quality software solutions within agile development cycles.** (Adds detail about the team and environment)\n",
      "* \n",
      "* *   **Implemented and optimized database queries and schemas (e.g., PostgreSQL, MySQL) resulting in a 15% improvement in data retrieval efficiency.** (Quantifies the improvement in database performance.)\n",
      "* \n",
      "* *   **Deployed and managed applications on cloud platforms such as AWS and Azure, leveraging services like EC2, Lambda, and Docker containers for improved scalability and resource utilization.** (Highlights cloud skills and specific technologies used)\n",
      "* \n",
      "* *   **Contributed to the design and implementation of RESTful APIs for seamless integration with various internal and external systems.** (Highlights API experience, a key skill for modern software development)\n",
      "* \n",
      "* *   **Automated build, test, and deployment processes using CI/CD pipelines (e.g., Jenkins, GitLab CI) leading to a 20% reduction in release cycle time.** (Quantifies improvements through automation)\n",
      "* \n",
      "* *   **Participated in code reviews and provided constructive feedback to improve code quality and maintainability across the team.** (Shows commitment to code quality and team collaboration)\n",
      "* \n",
      "* *   **Troubleshooted and resolved complex software defects and performance bottlenecks, ensuring system stability and user satisfaction.** (Demonstrates problem-solving skills)\n",
      "* \n",
      "* *   **Proactively identified and implemented process improvements to streamline software development workflows, resulting in increased team productivity.** (Showcases initiative and impact on productivity)\n",
      "* \n",
      "* *   **Stayed current with emerging technologies and industry trends, applying new knowledge to improve existing systems and develop innovative solutions.** (Demonstrates a commitment to continuous learning)\n"
     ]
    },
    {
     "data": {
      "text/plain": [
       "'Okay, based on the provided resume snippet, here are some tailored and impactful bullet points for a Software Developer resume:\\n\\n*   **Developed and maintained scalable web applications using Python (Flask/Django) and JavaScript (React/Angular), ensuring high availability and optimal performance.** (This specifies technologies and highlights responsibility for scalability and performance)\\n\\n*   **Collaborated with cross-functional teams (including product managers, designers, and QA engineers) to deliver high-quality software solutions within agile development cycles.** (Adds detail about the team and environment)\\n\\n*   **Implemented and optimized database queries and schemas (e.g., PostgreSQL, MySQL) resulting in a 15% improvement in data retrieval efficiency.** (Quantifies the improvement in database performance.)\\n\\n*   **Deployed and managed applications on cloud platforms such as AWS and Azure, leveraging services like EC2, Lambda, and Docker containers for improved scalability and resource utilization.** (Highlights cloud skills and specific technologies used)\\n\\n*   **Contributed to the design and implementation of RESTful APIs for seamless integration with various internal and external systems.** (Highlights API experience, a key skill for modern software development)\\n\\n*   **Automated build, test, and deployment processes using CI/CD pipelines (e.g., Jenkins, GitLab CI) leading to a 20% reduction in release cycle time.** (Quantifies improvements through automation)\\n\\n*   **Participated in code reviews and provided constructive feedback to improve code quality and maintainability across the team.** (Shows commitment to code quality and team collaboration)\\n\\n*   **Troubleshooted and resolved complex software defects and performance bottlenecks, ensuring system stability and user satisfaction.** (Demonstrates problem-solving skills)\\n\\n*   **Proactively identified and implemented process improvements to streamline software development workflows, resulting in increased team productivity.** (Showcases initiative and impact on productivity)\\n\\n*   **Stayed current with emerging technologies and industry trends, applying new knowledge to improve existing systems and develop innovative solutions.** (Demonstrates a commitment to continuous learning)\\n'"
      ]
     },
     "execution_count": 10,
     "metadata": {},
     "output_type": "execute_result"
    }
   ],
   "source": [
    "import google.generativeai as genai\n",
    "import json\n",
    "\n",
    "# Example job titles and their tailored resume bullet points\n",
    "example_bullet_points = {\n",
    "    \"Software Developer\": [\n",
    "        \"Designed and implemented a feature that improved user engagement by 25%\",\n",
    "        \"Collaborated with cross-functional teams to optimize application performance and reduce loading time by 30%\",\n",
    "        \"Developed automated testing tools that decreased QA cycle time by 40%\",\n",
    "        \"Led the migration of legacy systems to modern cloud infrastructure using AWS\"\n",
    "    ],\n",
    "    \"Customer Service Representative\": [\n",
    "        \"Resolved customer inquiries, achieving a 95% customer satisfaction rate\",\n",
    "        \"Managed customer complaints and turned them into positive experiences, improving retention by 20%\",\n",
    "        \"Trained new customer service representatives, improving team efficiency by 15%\",\n",
    "        \"Processed over 150 customer orders daily while maintaining error-free records\"\n",
    "    ],\n",
    "    \"Data Analyst\": [\n",
    "        \"Analyzed large datasets to derive actionable insights that resulted in a 15% increase in sales\",\n",
    "        \"Developed automated reporting tools, saving 10 hours of manual work per week\",\n",
    "        \"Created predictive models to forecast customer churn with an accuracy of 85%\",\n",
    "        \"Led data-driven projects that improved operational efficiency by 20%\"\n",
    "    ]\n",
    "}\n",
    "\n",
    "# Function to generate prompt for few-shot prompting with example bullet points\n",
    "def generate_resume_prompt(resume_text, job_title):\n",
    "    # Get the example bullet points for the job role\n",
    "    examples = example_bullet_points.get(job_title, [])\n",
    "    \n",
    "    # Create prompt with examples and new job role\n",
    "    prompt = f\"\"\"\n",
    "    You are a resume expert. I will provide you with examples of resume bullet points for various roles. Based on the examples, please generate tailored bullet points for a resume in the job role of {job_title}. \n",
    "\n",
    "    Example Resume Bullet Points for {job_title}:\n",
    "    \"\"\"\n",
    "    for bullet in examples:\n",
    "        prompt += f\"    - {bullet}\\n\"\n",
    "    \n",
    "    prompt += f\"\"\"\n",
    "    Now, analyze the resume text and generate a set of bullet points that reflect the job responsibilities and achievements for the role of {job_title} based on the resume information. Use your knowledge of the role to make the points impactful.\n",
    "\n",
    "    Resume:\n",
    "    \"{resume_text}\"\n",
    "    \"\"\"\n",
    "    return prompt\n",
    "\n",
    "# Function to generate tailored bullet points using Gemini\n",
    "def generate_bullet_points_with_gemini(resume_text, job_title):\n",
    "    try:\n",
    "        prompt = generate_resume_prompt(resume_text, job_title)\n",
    "        model = genai.GenerativeModel(\"models/gemini-2.0-flash\")\n",
    "        response = model.generate_content(prompt)\n",
    "\n",
    "        text = response.text\n",
    "        cleaned_text = text.replace(\"```json\\n\", \"\").replace(\"\\n```\", \"\")\n",
    "        \n",
    "        # Just returning the clean response text for formatted output\n",
    "        print(\"Generated Bullet Points:\\n\")\n",
    "        formatted_response = cleaned_text.strip().replace('\\n', '\\n* ')\n",
    "        print(f\"* {formatted_response}\")\n",
    "\n",
    "        return cleaned_text\n",
    "    except Exception as e:\n",
    "        print(f\"Error occurred: {e}\")\n",
    "        return None\n",
    "\n",
    "# Example usage\n",
    "resume_text = \"\"\"\n",
    "Experienced Software Developer with a strong background in Python, JavaScript, and cloud computing. Skilled in building scalable applications and collaborating with teams to develop software solutions. Proven track record of optimizing processes and improving system performance.\n",
    "\"\"\"\n",
    "job_title = \"Software Developer\"\n",
    "\n",
    "# Get tailored bullet points for the Software Developer role\n",
    "generate_bullet_points_with_gemini(resume_text, job_title)"
   ]
  },
  {
   "cell_type": "markdown",
   "id": "b81706f4",
   "metadata": {
    "_cell_guid": "90937949-4206-4f63-aacd-a03a7371616e",
    "_uuid": "3bd0cd34-5791-46ba-9f56-9c1ef8bd6a1a",
    "collapsed": false,
    "jupyter": {
     "outputs_hidden": false
    },
    "papermill": {
     "duration": 0.008039,
     "end_time": "2025-04-21T01:05:41.930173",
     "exception": false,
     "start_time": "2025-04-21T01:05:41.922134",
     "status": "completed"
    },
    "tags": []
   },
   "source": [
    "# 2. Gen AI Evaluation\n",
    "Gen AI evaluation to assess the quality of the generated bullet points for clarity, impact, and relevance. We then compare the generated content with the provided resume to ensure it aligns with job requirements and enhances the resume's effectiveness."
   ]
  },
  {
   "cell_type": "code",
   "execution_count": 11,
   "id": "f28448a1",
   "metadata": {
    "_cell_guid": "1c229d64-4fc7-4185-a726-a9b5e772afe5",
    "_uuid": "a5498dea-9e2d-484f-8d7c-0f366f9133a0",
    "collapsed": false,
    "execution": {
     "iopub.execute_input": "2025-04-21T01:05:41.948237Z",
     "iopub.status.busy": "2025-04-21T01:05:41.947901Z",
     "iopub.status.idle": "2025-04-21T01:05:46.918949Z",
     "shell.execute_reply": "2025-04-21T01:05:46.917796Z"
    },
    "jupyter": {
     "outputs_hidden": false
    },
    "papermill": {
     "duration": 4.982571,
     "end_time": "2025-04-21T01:05:46.920834",
     "exception": false,
     "start_time": "2025-04-21T01:05:41.938263",
     "status": "completed"
    },
    "tags": []
   },
   "outputs": [
    {
     "name": "stdout",
     "output_type": "stream",
     "text": [
      "Generated Bullet Points:\n",
      "\n",
      "* Okay, based on the provided resume snippet \"Experienced Software Developer with a strong background in Python, JavaScript, and cloud computing. Skilled in building scalable applications and collaborating with teams to develop software solutions. Proven track record of optimizing processes and improving system performance,\" here are some tailored and impactful bullet points for a Software Developer resume:\n",
      "* \n",
      "* **Focusing on Python & JavaScript skills:**\n",
      "* \n",
      "* *   Developed and maintained Python-based backend services, resulting in a 15% increase in data processing efficiency.\n",
      "* *   Utilized JavaScript frameworks (e.g., React, Angular, Vue) to build responsive and interactive user interfaces, improving user satisfaction scores by 20%.\n",
      "* *   Implemented RESTful APIs using Python (e.g., Flask, Django) to facilitate seamless communication between frontend and backend systems.\n",
      "* *   Leveraged JavaScript to create dynamic web applications, enhancing user experience and driving increased engagement.\n",
      "* \n",
      "* **Highlighting Cloud Computing Experience:**\n",
      "* \n",
      "* *   Designed and deployed scalable cloud-based solutions using AWS/Azure/GCP, reducing infrastructure costs by 25%. (Choose one cloud provider)\n",
      "* *   Automated cloud infrastructure provisioning and management using Infrastructure-as-Code tools (e.g., Terraform, CloudFormation).\n",
      "* *   Optimized cloud application performance by implementing caching strategies and database tuning, leading to a 30% reduction in latency.\n",
      "* *   Utilized cloud monitoring tools (e.g., CloudWatch, Azure Monitor, Google Cloud Monitoring) to proactively identify and resolve performance bottlenecks.\n",
      "* \n",
      "* **Emphasizing Scalability & Collaboration:**\n",
      "* \n",
      "* *   Designed and implemented scalable microservices architecture to support a 50% increase in application traffic.\n",
      "* *   Collaborated with cross-functional teams (Product, Design, QA) to deliver high-quality software solutions on time and within budget.\n",
      "* *   Participated in code reviews and provided constructive feedback to ensure code quality and maintainability.\n",
      "* *   Contributed to the development of comprehensive technical documentation, facilitating knowledge sharing and onboarding for new team members.\n",
      "* \n",
      "* **Showcasing Optimization & Performance Improvement:**\n",
      "* \n",
      "* *   Identified and resolved performance bottlenecks in existing applications, resulting in a 40% reduction in response time.\n",
      "* *   Implemented code optimization techniques and caching mechanisms to improve application efficiency and reduce resource consumption.\n",
      "* *   Developed and maintained automated testing suites (unit, integration, end-to-end) to ensure code quality and prevent regressions.\n",
      "* *   Improved data processing pipelines by optimizing algorithms and data structures, leading to a 20% increase in throughput.\n",
      "* \n",
      "* **More General/Quantifiable Accomplishments:**\n",
      "* \n",
      "* *   Led the development and deployment of [Specific Project Name], resulting in [Quantifiable Benefit, e.g., increased revenue, reduced costs, improved efficiency].\n",
      "* *   Reduced bug count by 15% by implementing robust error handling and logging mechanisms.\n",
      "* *   Mentored junior developers, providing guidance on best practices and software development principles.\n",
      "* *   Successfully delivered [Number] projects on time and within budget, consistently meeting or exceeding expectations.\n",
      "* \n",
      "* **Important Considerations When Choosing Bullet Points:**\n",
      "* \n",
      "* *   **Tailor to the specific job description:**  The most effective bullet points will be those that directly address the skills and experience sought by the employer.\n",
      "* *   **Quantify your accomplishments:** Use numbers and metrics whenever possible to demonstrate the impact of your work.\n",
      "* *   **Use action verbs:** Start each bullet point with a strong action verb (e.g., Developed, Implemented, Optimized, Led, Collaborated).\n",
      "* *   **Keep it concise:** Aim for clear and concise bullet points that are easy to read and understand.\n",
      "* *   **Use the STAR method (Situation, Task, Action, Result) as a guide.** This helps structure your bullet points to showcase the context of your work, what you did, and the resulting impact.\n",
      "* \n",
      "* By combining these tailored bullet points with your specific experiences and skills, you can create a compelling resume that highlights your strengths as a Software Developer. Remember to choose the bullet points that best reflect your achievements and align with the requirements of the target job.\n",
      "Error during evaluation: \"Unable to determine the intended type of the `dict`. For `Content`, a 'parts' key is expected. For `Part`, either an 'inline_data' or a 'text' key is expected. For `Blob`, both 'mime_type' and 'data' keys are expected. However, the provided dictionary has the following keys: ['content', 'task']\"\n"
     ]
    }
   ],
   "source": [
    "import google.generativeai as genai\n",
    "import json\n",
    "\n",
    "# Example job titles and their tailored resume bullet points\n",
    "example_bullet_points = {\n",
    "    \"Software Developer\": [\n",
    "        \"Designed and implemented a feature that improved user engagement by 25%\",\n",
    "        \"Collaborated with cross-functional teams to optimize application performance and reduce loading time by 30%\",\n",
    "        \"Developed automated testing tools that decreased QA cycle time by 40%\",\n",
    "        \"Led the migration of legacy systems to modern cloud infrastructure using AWS\"\n",
    "    ],\n",
    "    \"Customer Service Representative\": [\n",
    "        \"Resolved customer inquiries, achieving a 95% customer satisfaction rate\",\n",
    "        \"Managed customer complaints and turned them into positive experiences, improving retention by 20%\",\n",
    "        \"Trained new customer service representatives, improving team efficiency by 15%\",\n",
    "        \"Processed over 150 customer orders daily while maintaining error-free records\"\n",
    "    ],\n",
    "    \"Data Analyst\": [\n",
    "        \"Analyzed large datasets to derive actionable insights that resulted in a 15% increase in sales\",\n",
    "        \"Developed automated reporting tools, saving 10 hours of manual work per week\",\n",
    "        \"Created predictive models to forecast customer churn with an accuracy of 85%\",\n",
    "        \"Led data-driven projects that improved operational efficiency by 20%\"\n",
    "    ]\n",
    "}\n",
    "\n",
    "# Function to generate prompt for few-shot prompting with example bullet points\n",
    "def generate_resume_prompt(resume_text, job_title):\n",
    "    # Get the example bullet points for the job role\n",
    "    examples = example_bullet_points.get(job_title, [])\n",
    "    \n",
    "    # Create prompt with examples and new job role\n",
    "    prompt = f\"\"\"\n",
    "    You are a resume expert. I will provide you with examples of resume bullet points for various roles. Based on the examples, please generate tailored bullet points for a resume in the job role of {job_title}. \n",
    "\n",
    "    Example Resume Bullet Points for {job_title}:\n",
    "    \"\"\"\n",
    "    for bullet in examples:\n",
    "        prompt += f\"    - {bullet}\\n\"\n",
    "    \n",
    "    prompt += f\"\"\"\n",
    "    Now, analyze the resume text and generate a set of bullet points that reflect the job responsibilities and achievements for the role of {job_title} based on the resume information. Use your knowledge of the role to make the points impactful.\n",
    "\n",
    "    Resume:\n",
    "    \"{resume_text}\"\n",
    "    \"\"\"\n",
    "    return prompt\n",
    "\n",
    "# Function to evaluate the quality of generated content\n",
    "def evaluate_content_quality(generated_content):\n",
    "    try:\n",
    "        # Call the Gemini evaluation model\n",
    "        model = genai.GenerativeModel(\"models/gemini-2.0-eval\")  # Assuming there's an evaluation model\n",
    "        evaluation_response = model.generate_content({\n",
    "            \"content\": generated_content,\n",
    "            \"task\": \"Evaluate the quality of this content for a resume. Check for clarity, impact, and relevance.\"\n",
    "        })\n",
    "\n",
    "        evaluation = evaluation_response.text\n",
    "        print(f\"Evaluation of the Generated Content:\\n{evaluation}\")\n",
    "    except Exception as e:\n",
    "        print(f\"Error during evaluation: {e}\")\n",
    "\n",
    "# Function to generate tailored bullet points using Gemini\n",
    "def generate_bullet_points_with_gemini(resume_text, job_title):\n",
    "    try:\n",
    "        prompt = generate_resume_prompt(resume_text, job_title)\n",
    "        model = genai.GenerativeModel(\"models/gemini-2.0-flash\")\n",
    "        response = model.generate_content(prompt)\n",
    "\n",
    "        text = response.text\n",
    "        cleaned_text = text.replace(\"```json\\n\", \"\").replace(\"\\n```\", \"\")\n",
    "        \n",
    "        # Output the generated bullet points\n",
    "        print(\"Generated Bullet Points:\\n\")\n",
    "        formatted_response = cleaned_text.strip().replace('\\n', '\\n* ')\n",
    "        print(f\"* {formatted_response}\")\n",
    "        \n",
    "        # Now, evaluate the quality of the generated content\n",
    "        evaluate_content_quality(cleaned_text)\n",
    "\n",
    "    except Exception as e:\n",
    "        print(f\"Error occurred: {e}\")\n",
    "        return None\n",
    "\n",
    "# Example usage\n",
    "resume_text = \"\"\"\n",
    "Experienced Software Developer with a strong background in Python, JavaScript, and cloud computing. Skilled in building scalable applications and collaborating with teams to develop software solutions. Proven track record of optimizing processes and improving system performance.\n",
    "\"\"\"\n",
    "job_title = \"Software Developer\"\n",
    "\n",
    "# Get tailored bullet points for the Software Developer role and evaluate them\n",
    "generate_bullet_points_with_gemini(resume_text, job_title)"
   ]
  },
  {
   "cell_type": "markdown",
   "id": "ee6e9473",
   "metadata": {
    "_cell_guid": "1ba68e69-3ade-4646-b830-69c4ff8df6d7",
    "_uuid": "891b6336-1d97-4ad2-a09e-7b5014b5ac62",
    "collapsed": false,
    "jupyter": {
     "outputs_hidden": false
    },
    "papermill": {
     "duration": 0.011868,
     "end_time": "2025-04-21T01:05:46.941359",
     "exception": false,
     "start_time": "2025-04-21T01:05:46.929491",
     "status": "completed"
    },
    "tags": []
   },
   "source": []
  },
  {
   "cell_type": "markdown",
   "id": "bcf17ec2",
   "metadata": {
    "_cell_guid": "8be4820c-2e69-4f38-8bde-4af8d5a2e52a",
    "_uuid": "680c8d39-621a-48ca-9b8c-e4a2f29bb13a",
    "collapsed": false,
    "jupyter": {
     "outputs_hidden": false
    },
    "papermill": {
     "duration": 0.009282,
     "end_time": "2025-04-21T01:05:46.960206",
     "exception": false,
     "start_time": "2025-04-21T01:05:46.950924",
     "status": "completed"
    },
    "tags": []
   },
   "source": [
    "# RAG(Retrieval-Augmented Generation):\n",
    "is retrieving additional relevant information from external sources to enhance the resume's tailored bullet points and suggestions. This data is then incorporated into the analysis to provide a more comprehensive and contextually aligned evaluation.\n",
    "The resume analysis report includes the following:\n",
    "\n",
    "1. Strengths\n",
    "2. Missing Elements\n",
    "3. Suggestions for Improvement"
   ]
  },
  {
   "cell_type": "code",
   "execution_count": 12,
   "id": "128fa2ba",
   "metadata": {
    "_cell_guid": "bbf73086-0c36-4eba-84e1-8039366500ba",
    "_uuid": "b9e9aee6-f67b-46b0-8ae8-9631f65c298d",
    "collapsed": false,
    "execution": {
     "iopub.execute_input": "2025-04-21T01:05:46.982405Z",
     "iopub.status.busy": "2025-04-21T01:05:46.982050Z",
     "iopub.status.idle": "2025-04-21T01:05:50.652913Z",
     "shell.execute_reply": "2025-04-21T01:05:50.651613Z"
    },
    "jupyter": {
     "outputs_hidden": false
    },
    "papermill": {
     "duration": 3.685298,
     "end_time": "2025-04-21T01:05:50.654903",
     "exception": false,
     "start_time": "2025-04-21T01:05:46.969605",
     "status": "completed"
    },
    "tags": []
   },
   "outputs": [
    {
     "name": "stdout",
     "output_type": "stream",
     "text": [
      "\n",
      "✅ Resume Analysis Report:\n",
      "\n",
      "🔹 Strengths:\n",
      "  - Highlights key skills relevant to a Software Developer role (Python, JavaScript, cloud computing, scalability, teamwork).\n",
      "  - Uses strong action verbs (building, collaborating, optimizing, improving) to describe experience.\n",
      "  - Concisely conveys experience and skills.\n",
      "\n",
      "🔸 Missing Elements:\n",
      "  - Specific project details and accomplishments:  Quantifiable results are missing (e.g., 'Improved system performance by 20%').\n",
      "  - Detailed description of projects and responsibilities: The resume lacks specifics on the types of applications built, technologies used within those projects (specific frameworks, databases, etc.), and the candidate's individual contributions.\n",
      "  - Work history: No mention of previous companies or employment dates.\n",
      "  - Education: No mention of educational background (degrees, certifications).\n",
      "  - Technical skills beyond the basics:  While Python and JavaScript are mentioned, the resume needs to showcase depth of knowledge (specific libraries, frameworks, etc.) and possibly other relevant technologies (e.g., databases, DevOps tools).\n",
      "  - Soft skills: While teamwork is mentioned, other relevant soft skills like communication, problem-solving, and time management should be explicitly included.\n",
      "  - Portfolio or GitHub link:  A link to a portfolio or GitHub profile showcasing projects would significantly strengthen the resume.\n",
      "\n",
      "💡 Suggestions for Improvement:\n",
      "  - Quantify accomplishments: Add numbers to demonstrate impact (e.g., 'Reduced application load times by 15%').\n",
      "  - Expand on project descriptions:  Include details on 2-3 significant projects, highlighting responsibilities, technologies used, and quantifiable results for each.\n",
      "  - Add work history: Include previous company names, job titles, and dates of employment.\n",
      "  - Include education: List degrees, certifications, and relevant coursework.\n",
      "  - Elaborate on technical skills: Specify relevant frameworks, libraries, databases, and tools used (e.g., React, Node.js, SQL, AWS, Docker, Kubernetes).\n",
      "  - Add soft skills:  Highlight relevant soft skills with specific examples (e.g., 'Collaborated effectively with a team of five engineers to deliver a project under tight deadlines').\n",
      "  - Include a portfolio or GitHub link:  Provide a link to view your work and demonstrate your abilities.\n",
      "  - Use a structured format:  Instead of a paragraph, use a more structured format like a chronological resume or functional resume to organize information.\n",
      "  - Tailor to specific job descriptions: Customize the resume for each application, emphasizing skills and experience most relevant to the specific job requirements.\n"
     ]
    }
   ],
   "source": [
    "import google.generativeai as genai\n",
    "import json\n",
    "\n",
    "# Configure the model\n",
    "model = genai.GenerativeModel(\"models/gemini-1.5-flash\")  # this works with generate_content\n",
    "\n",
    "# Resume text\n",
    "resume_text = \"\"\"\n",
    "Experienced Software Developer with a strong background in Python, JavaScript, and cloud computing. Skilled in building scalable applications and collaborating with teams to develop software solutions. Proven track record of optimizing processes and improving system performance.\n",
    "\"\"\"\n",
    "\n",
    "# Job title\n",
    "job_title = \"Software Developer\"\n",
    "\n",
    "# Controlled prompt with structured output\n",
    "def generate_resume_report_prompt(resume_text, job_title):\n",
    "    prompt = f\"\"\"\n",
    "    You are an expert resume evaluator. Review the following resume for the job title: {job_title}.\n",
    "\n",
    "    Return a structured JSON object in this format:\n",
    "    {{\n",
    "        \"strengths\": [\"Highlight what the resume does well\"],\n",
    "        \"missing_elements\": [\"What skills or experience are missing for the job role\"],\n",
    "        \"suggestions\": [\"How the resume can be improved for this job\"]\n",
    "    }}\n",
    "\n",
    "    Resume:\n",
    "    \\\"\\\"\\\"{resume_text}\\\"\\\"\\\"\n",
    "    \"\"\"\n",
    "    return prompt\n",
    "\n",
    "# Function to generate the report\n",
    "def generate_structured_resume_report(resume_text, job_title):\n",
    "    try:\n",
    "        prompt = generate_resume_report_prompt(resume_text, job_title)\n",
    "        response = model.generate_content(prompt)\n",
    "\n",
    "        cleaned_text = response.text.replace(\"```json\", \"\").replace(\"```\", \"\").strip()\n",
    "\n",
    "        try:\n",
    "            report = json.loads(cleaned_text)\n",
    "            return report\n",
    "        except json.JSONDecodeError:\n",
    "            print(\"Could not parse response as JSON. Raw output:\")\n",
    "            return cleaned_text\n",
    "\n",
    "    except Exception as e:\n",
    "        print(f\"Error: {e}\")\n",
    "        return None\n",
    "\n",
    "# Run the report generator\n",
    "report = generate_structured_resume_report(resume_text, job_title)\n",
    "\n",
    "# Output result (Formatted)\n",
    "if isinstance(report, dict):\n",
    "    print(\"\\n✅ Resume Analysis Report:\\n\")\n",
    "\n",
    "    print(\"🔹 Strengths:\")\n",
    "    for item in report.get(\"strengths\", []):\n",
    "        print(f\"  - {item}\")\n",
    "\n",
    "    print(\"\\n🔸 Missing Elements:\")\n",
    "    for item in report.get(\"missing_elements\", []):\n",
    "        print(f\"  - {item}\")\n",
    "\n",
    "    print(\"\\n💡 Suggestions for Improvement:\")\n",
    "    for item in report.get(\"suggestions\", []):\n",
    "        print(f\"  - {item}\")\n",
    "\n",
    "elif report:\n",
    "    print(\"📝 Raw Output:\\n\")\n",
    "    print(report)\n",
    "else:\n",
    "    print(\"❌ No report generated.\")"
   ]
  },
  {
   "cell_type": "markdown",
   "id": "097119ce",
   "metadata": {
    "_cell_guid": "327ebd43-4c48-4c63-b532-262c1824a6d4",
    "_uuid": "d9643bc9-28e0-4ec0-8546-0aa83c16f387",
    "collapsed": false,
    "jupyter": {
     "outputs_hidden": false
    },
    "papermill": {
     "duration": 0.008893,
     "end_time": "2025-04-21T01:05:50.674160",
     "exception": false,
     "start_time": "2025-04-21T01:05:50.665267",
     "status": "completed"
    },
    "tags": []
   },
   "source": [
    "**Limitations**\n",
    "1. May require manual review for niche domains.\n",
    "2. Bullet points can still be generic if training data is limited.\n",
    "3. No real-time recruiter feedback loop.\n",
    "\n",
    "**Future Scope**\n",
    "1. Add Job Description parser\n",
    "2. Offer LinkedIn bio & cover letter generation\n",
    "3. Integrate with job platforms (like LinkedIn, Indeed) to suggest real-time job matches based on the resume content"
   ]
  },
  {
   "cell_type": "markdown",
   "id": "03a6a1af",
   "metadata": {
    "_cell_guid": "693c199e-4591-436d-80b8-46ef1b6e50d9",
    "_uuid": "b32ccebe-b4fb-48b7-98b3-04f416867209",
    "collapsed": false,
    "jupyter": {
     "outputs_hidden": false
    },
    "papermill": {
     "duration": 0.008441,
     "end_time": "2025-04-21T01:05:50.692974",
     "exception": false,
     "start_time": "2025-04-21T01:05:50.684533",
     "status": "completed"
    },
    "tags": []
   },
   "source": [
    "# AI Resume Critique Buddy advanced AI techniques like Few-Shot Prompting, Gen AI Evaluation, and RAG (Retrieval-Augmented Generation) to enhance and optimize resumes for job applications. Few-Shot Prompting helps generate tailored resume bullet points based on predefined examples, ensuring relevance to the desired job role. Gen AI Evaluation assesses the quality of these bullet points for clarity, impact, and job-specific alignment. RAG further enhances the process by analyzing the resume for strengths, identifying missing elements, and offering actionable suggestions for improvement, thereby increasing the chances of standing out to recruiters and passing through Applicant Tracking Systems (ATS). The project is designed to make resumes more effective and impactful, boosting a candidate's job prospects."
   ]
  },
  {
   "cell_type": "markdown",
   "id": "2d2c8eb4",
   "metadata": {
    "papermill": {
     "duration": 0.009167,
     "end_time": "2025-04-21T01:05:50.711268",
     "exception": false,
     "start_time": "2025-04-21T01:05:50.702101",
     "status": "completed"
    },
    "tags": []
   },
   "source": [
    "# Citation:\n",
    "@misc{gen-ai-intensive-course-capstone-2025q1,\n",
    "    author = {Addison Howard and Brenda Flynn and Myles O'Neill and Nate and Polong Lin},\n",
    "    title = {Gen AI Intensive Course Capstone 2025Q1},\n",
    "    year = {2025},\n",
    "    howpublished = {\\url{https://kaggle.com/competitions/gen-ai-intensive-course-capstone-2025q1}},\n",
    "    note = {Kaggle}\n",
    "}"
   ]
  }
 ],
 "metadata": {
  "kaggle": {
   "accelerator": "none",
   "dataSources": [
    {
     "sourceId": 97258,
     "sourceType": "competition"
    },
    {
     "datasetId": 7202186,
     "sourceId": 11489845,
     "sourceType": "datasetVersion"
    }
   ],
   "dockerImageVersionId": 31012,
   "isGpuEnabled": false,
   "isInternetEnabled": true,
   "language": "python",
   "sourceType": "notebook"
  },
  "kernelspec": {
   "display_name": "Python 3",
   "language": "python",
   "name": "python3"
  },
  "language_info": {
   "codemirror_mode": {
    "name": "ipython",
    "version": 3
   },
   "file_extension": ".py",
   "mimetype": "text/x-python",
   "name": "python",
   "nbconvert_exporter": "python",
   "pygments_lexer": "ipython3",
   "version": "3.11.11"
  },
  "papermill": {
   "default_parameters": {},
   "duration": 74.488076,
   "end_time": "2025-04-21T01:05:53.642605",
   "environment_variables": {},
   "exception": null,
   "input_path": "__notebook__.ipynb",
   "output_path": "__notebook__.ipynb",
   "parameters": {},
   "start_time": "2025-04-21T01:04:39.154529",
   "version": "2.6.0"
  }
 },
 "nbformat": 4,
 "nbformat_minor": 5
}
